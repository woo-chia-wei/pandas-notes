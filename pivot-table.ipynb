{
 "cells": [
  {
   "cell_type": "code",
   "execution_count": 1,
   "metadata": {
    "collapsed": true
   },
   "outputs": [],
   "source": [
    "import pandas as pd\n",
    "import numpy as np"
   ]
  },
  {
   "cell_type": "markdown",
   "metadata": {},
   "source": [
    "## Read sales data from CSV"
   ]
  },
  {
   "cell_type": "code",
   "execution_count": 2,
   "metadata": {},
   "outputs": [
    {
     "name": "stdout",
     "output_type": "stream",
     "text": [
      "                   Date          Company   Product  Units\n",
      "0   2015-02-02 08:30:00            Hooli  Software      3\n",
      "1   2015-02-02 21:00:00        Mediacore  Hardware      9\n",
      "2   2015-02-03 14:00:00          Initech  Software     13\n",
      "3   2015-02-04 15:30:00        Streeplex  Software     13\n",
      "4   2015-02-04 22:00:00  Acme Coporation  Hardware     14\n",
      "5   2015-02-05 02:00:00  Acme Coporation  Software     19\n",
      "6   2015-02-05 22:00:00            Hooli   Service     10\n",
      "7   2015-02-07 23:00:00  Acme Coporation  Hardware      1\n",
      "8   2015-02-09 09:00:00        Streeplex   Service     19\n",
      "9   2015-02-09 13:00:00        Mediacore  Software      7\n",
      "10  2015-02-11 20:00:00          Initech  Software      7\n",
      "11  2015-02-11 23:00:00            Hooli  Software      4\n",
      "12  2015-02-16 12:00:00            Hooli  Software     10\n",
      "13  2015-02-19 11:00:00        Mediacore  Hardware     16\n",
      "14  2015-02-19 16:00:00        Mediacore   Service     10\n",
      "15  2015-02-21 05:00:00        Mediacore  Software      3\n",
      "16  2015-02-21 20:30:00            Hooli  Hardware      3\n",
      "17  2015-02-25 00:30:00          Initech   Service     10\n",
      "18  2015-02-26 09:00:00        Streeplex   Service      4\n"
     ]
    }
   ],
   "source": [
    "# The scenario is to create pivot table to show Sales of each [Company]-[Product] pairs\n",
    "df = pd.read_csv('data/sales-feb-2015.csv')\n",
    "print(df)"
   ]
  },
  {
   "cell_type": "markdown",
   "metadata": {},
   "source": [
    "## Method 1: Apply groupby(), reset_index(), pivot()"
   ]
  },
  {
   "cell_type": "code",
   "execution_count": 3,
   "metadata": {},
   "outputs": [
    {
     "name": "stdout",
     "output_type": "stream",
     "text": [
      "                          Units\n",
      "Company         Product        \n",
      "Acme Coporation Hardware     15\n",
      "                Software     19\n",
      "Hooli           Hardware      3\n",
      "                Service      10\n",
      "                Software     17\n",
      "Initech         Service      10\n",
      "                Software     20\n",
      "Mediacore       Hardware     25\n",
      "                Service      10\n",
      "                Software     10\n",
      "Streeplex       Service      23\n",
      "                Software     13\n"
     ]
    }
   ],
   "source": [
    "# There are duplicated [Company]-[Product] pairs\n",
    "# Apply group by to get the aggregrated sum\n",
    "df_group = df.groupby(['Company', 'Product']).sum()\n",
    "print(df_group)"
   ]
  },
  {
   "cell_type": "code",
   "execution_count": 4,
   "metadata": {},
   "outputs": [
    {
     "name": "stdout",
     "output_type": "stream",
     "text": [
      "            Company   Product  Units\n",
      "0   Acme Coporation  Hardware     15\n",
      "1   Acme Coporation  Software     19\n",
      "2             Hooli  Hardware      3\n",
      "3             Hooli   Service     10\n",
      "4             Hooli  Software     17\n",
      "5           Initech   Service     10\n",
      "6           Initech  Software     20\n",
      "7         Mediacore  Hardware     25\n",
      "8         Mediacore   Service     10\n",
      "9         Mediacore  Software     10\n",
      "10        Streeplex   Service     23\n",
      "11        Streeplex  Software     13\n"
     ]
    }
   ],
   "source": [
    "# The outcome of group by contains multiple indexes\n",
    "# Apply reset_index() to move all the index columns to columns\n",
    "df_new = df_group.reset_index()\n",
    "print(df_new)"
   ]
  },
  {
   "cell_type": "code",
   "execution_count": 5,
   "metadata": {},
   "outputs": [
    {
     "name": "stdout",
     "output_type": "stream",
     "text": [
      "Product          Hardware  Service  Software\n",
      "Company                                     \n",
      "Acme Coporation      15.0      0.0      19.0\n",
      "Hooli                 3.0     10.0      17.0\n",
      "Initech               0.0     10.0      20.0\n",
      "Mediacore            25.0     10.0      10.0\n",
      "Streeplex             0.0     23.0      13.0\n"
     ]
    }
   ],
   "source": [
    "# The last step is straight forward\n",
    "# Just configure index, column & values\n",
    "df_pivot = df_new.pivot(index='Company', columns='Product', values='Units').fillna(0)\n",
    "print(df_pivot)"
   ]
  },
  {
   "cell_type": "markdown",
   "metadata": {},
   "source": [
    "## Method 2: Apply pivot_table()"
   ]
  },
  {
   "cell_type": "code",
   "execution_count": 6,
   "metadata": {},
   "outputs": [
    {
     "name": "stdout",
     "output_type": "stream",
     "text": [
      "Product          Hardware  Service  Software\n",
      "Company                                     \n",
      "Acme Coporation      15.0      0.0      19.0\n",
      "Hooli                 3.0     10.0      17.0\n",
      "Initech               0.0     10.0      20.0\n",
      "Mediacore            25.0     10.0      10.0\n",
      "Streeplex             0.0     23.0      13.0\n"
     ]
    }
   ],
   "source": [
    "# Or apply the built in function pivot_table\n",
    "# In this case, aggregration is handled and group by is not needed\n",
    "df_pivot = df.pivot_table(index='Company', columns='Product', values='Units', aggfunc=np.sum).fillna(0)\n",
    "print(df_pivot)"
   ]
  },
  {
   "cell_type": "code",
   "execution_count": 7,
   "metadata": {},
   "outputs": [
    {
     "name": "stdout",
     "output_type": "stream",
     "text": [
      "Product          Hardware  Service  Software    All\n",
      "Company                                            \n",
      "Acme Coporation      15.0      0.0      19.0   34.0\n",
      "Hooli                 3.0     10.0      17.0   30.0\n",
      "Initech               0.0     10.0      20.0   30.0\n",
      "Mediacore            25.0     10.0      10.0   45.0\n",
      "Streeplex             0.0     23.0      13.0   36.0\n",
      "All                  43.0     53.0      79.0  175.0\n"
     ]
    }
   ],
   "source": [
    "# One benefit of this built-in pivot_table() is it can compute grandtotal of all rows/columns\n",
    "# The trick is done by adding margins=True\n",
    "df_pivot_grandtotal = df.pivot_table(index='Company', columns='Product', values='Units', aggfunc=np.sum, margins=True).fillna(0)\n",
    "print(df_pivot_grandtotal)"
   ]
  }
 ],
 "metadata": {
  "kernelspec": {
   "display_name": "Python 3",
   "language": "python",
   "name": "python3"
  },
  "language_info": {
   "codemirror_mode": {
    "name": "ipython",
    "version": 3
   },
   "file_extension": ".py",
   "mimetype": "text/x-python",
   "name": "python",
   "nbconvert_exporter": "python",
   "pygments_lexer": "ipython3",
   "version": "3.6.1"
  }
 },
 "nbformat": 4,
 "nbformat_minor": 2
}
